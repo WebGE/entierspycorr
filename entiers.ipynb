{
 "cells": [
  {
   "cell_type": "markdown",
   "metadata": {},
   "source": [
    "# Conversions d'entiers -  <span style=\"color:blue;\">CORRECTION</span>"
   ]
  },
  {
   "cell_type": "markdown",
   "metadata": {},
   "source": [
    "**Ressources** : <a href=\"https://webge.synology.me/dokuwiki/doku.php?id=informatique:represdonnees\" target=\"_blank\"><input type=\"button\" value=\"Représentation des données\"></a> <a href=\"https://webge.synology.me/dokuwiki/doku.php?id=python:accueilpython\" target=\"_blank\"><input type=\"button\" value=\"Wiki Python sur WebGE\"></a>\n",
    "<a href=\"http://p.mariano.free.fr/doc/1nsi/tp/1NSI_Donnnes_Entiers_DR_Notebook.zip\" target=\"_blank\"><input type=\"button\" value=\"Document réponse\"></a>"
   ]
  },
  {
   "cell_type": "markdown",
   "metadata": {},
   "source": [
    "**Sommaire**\n",
    "* 1. Présentation\n",
    "* 2. Exercices\n",
    "* 2.1 Conversions binaire <-> hexadécimal\n",
    "* 2.2 Conversion binaire -> décimal\n",
    "* 2.3 Nombre de bits pour coder un nombre décimal en binaire (complément à 2) ?\n",
    "* 2.4 Conversion binaire (complément à 2) -> décimal "
   ]
  },
  {
   "cell_type": "markdown",
   "metadata": {},
   "source": [
    "## 1. Présentation\n",
    "\n",
    "<table>\n",
    "    <tr>\n",
    "        <td style=\"text-align:justify; font-size:14px;\">Pour manipuler des séquences de <strong>bits</strong>, de longueur arbitraire, on utilise la notation <strong>0b</strong> devant le nombre binaire. Pour manipuler une valeur hexadécimale, on l'a fait précédée de <strong>0x</strong>. <br> <br> Python dispose également des fonctions built-in (natives) <strong>bin()</strong> et <strong>hex()</strong> pour convertir des valeurs en base 2 et en base 16.</td>\n",
    "        <td width=\"20%\"><img src=\"img/octeb2.jpg\"></td>\n",
    "    </tr>\n",
    "</table>"
   ]
  },
  {
   "cell_type": "code",
   "execution_count": null,
   "metadata": {},
   "outputs": [],
   "source": [
    "# Exemples\n",
    "print(hex(0b01010101010101))\n",
    "print(bin(0x1234))"
   ]
  },
  {
   "cell_type": "markdown",
   "metadata": {},
   "source": [
    "## 2. Exercices"
   ]
  },
  {
   "cell_type": "markdown",
   "metadata": {},
   "source": [
    "### 2.1 Conversions binaire <-> hexadécimal"
   ]
  },
  {
   "cell_type": "markdown",
   "metadata": {},
   "source": [
    "> **Activité 1.** Convertissez 16FE<sub>16</sub> en binaire et 00001101111010011<sub>2</sub> en hexadécimal sur le **document réponse**. Formatez votre réponse sur 2 octets. Vérifiez vos résultats avec les fonctions built-in **bin()** et **hex()**."
   ]
  },
  {
   "cell_type": "markdown",
   "metadata": {},
   "source": [
    "<span style=\"color:blue;\"><em><strong>Correction</strong></em><br>\n",
    "16FE<sub>16</sub> = 0001 0110 1111 1110<sub>2</sub><br>\n",
    "0000 1101 11101 0011<sub>2</sub> = 01db3<sub>16</sub>\n",
    "</span>"
   ]
  },
  {
   "cell_type": "code",
   "execution_count": null,
   "metadata": {},
   "outputs": [],
   "source": [
    "# Vérification\n",
    "# A compléter\n",
    "print(bin(0x16FE))\n",
    "print(hex(0b00001101111010011))"
   ]
  },
  {
   "cell_type": "markdown",
   "metadata": {},
   "source": [
    "### 2.2 Conversion binaire -> décimal"
   ]
  },
  {
   "cell_type": "markdown",
   "metadata": {},
   "source": [
    "> **Activité 2.** Ecrivez une fonction *entier(b)* qui convertit en base 10 un nombre binaire b donné sous la forme d'un tableau de taille quelconque ne contenant que des chiffres 0 et 1, et tel que le bit de **poids fort** se trouve dans la case d'indice 0. Le nombre n est supposé représenter un nombre positif.\n",
    ">\n",
    ">*Résultat attendu pour b=[1,0,0,0,1,1,1,1]* <br>\n",
    "> Valeur affichée : 143"
   ]
  },
  {
   "cell_type": "code",
   "execution_count": null,
   "metadata": {},
   "outputs": [],
   "source": [
    "# A compléter\n",
    "# b>0\n",
    "def entier(b):\n",
    "    n=0\n",
    "    for i in range(len(b)):\n",
    "        n += b[i]*pow(2,len(b)-i-1)\n",
    "    return n\n",
    "\n",
    "b=[1,0,0,0,1,1,1,1]\n",
    "entier(b)"
   ]
  },
  {
   "cell_type": "markdown",
   "metadata": {},
   "source": [
    "### 2.3 Nombre de bits pour coder un nombre décimal en binaire (complément à 2) ?\n",
    "\n",
    "**Ressource** : <a href=\"https://webge.synology.me/dokuwiki/doku.php?id=informatique:represdonnees\" target=\"_blank\"><input type=\"button\" value=\"Wiki Représentation des données\"></a>"
   ]
  },
  {
   "cell_type": "markdown",
   "metadata": {},
   "source": [
    "> **Activité 3.** Combien de bits sont nécessaires pour coder 12695 et -459872 en **complément à 2** ? Rédigez sur le **document réponse**. Vérifiez avec la fonction buit-in **bin()**"
   ]
  },
  {
   "cell_type": "markdown",
   "metadata": {},
   "source": [
    "<span style=\"color:blue;\"><em><strong>Correction</strong></em><br>\n",
    "    On sait que -2<sup>n-1</sup> ≤ N<sub>10</sub> ≤ 2<sup>n-1</sup> - 1<br>\n",
    "On pose  12695 ≤ 2<sup>n-1</sup> - 1<br>\n",
    "⇒ 12696 ≤  2<sup>n-1</sup> <br>\n",
    "⇒ log<sub>10</sub>(2<sup>n-1)</sup> ≥ log<sub>10</sub>(12696) or log<sub>10</sub>(a<sup>b</sup>) = b*log<sub>10</sub>(a) <br>\n",
    "⇒ n-1 ≥ log<sub>10</sub>(12696)/log<sub>10</sub>(2) <br>\n",
    "⇒ n ≥ (log<sub>10</sub>(12696)/log<sub>10</sub>(2)) + 1 <br>\n",
    "⇒ n ≥ 14,63 ⇒ <strong>n=15</strong> (en complément à 2 le bit de poids fort doit être un zéro !)<br>\n",
    "<br>\n",
    "On pose -2<sup>n-1</sup> ≤ -459872 <br>\n",
    "⇒ 2<sup>n-1</sup> > 459872 <br>\n",
    "⇒ log<sub>10</sub>(2<sup>n-1)</sup> > log<sub>10</sub>(459872) or log<sub>10</sub>(a<sup>b</sup>) = b*log<sub>10</sub>(a) <br>\n",
    "⇒ n-1 ≥ log<sub>10</sub>(459872)/log<sub>10</sub>(2) <br>\n",
    "⇒ n ≥ (log<sub>10</sub>(459872)/log<sub>10</sub>(2)) + 1 <br>\n",
    "⇒ n ≥ 19,91 ⇒ <strong>n=20</strong>\n",
    "\n",
    "<strong>Vérification</strong> : pour n = 20, N<sub>10</sub> ∈ [-2<sup>19</sup>, 2<sup>19</sup>-1] soit **-524288 ≤ N<sub>10</sub> ≤ 524287**\n",
    "</span>"
   ]
  },
  {
   "cell_type": "code",
   "execution_count": null,
   "metadata": {},
   "outputs": [],
   "source": [
    "# Vérification\n",
    "# A compléter\n",
    "n = 12695\n",
    "print(bin(12695))\n",
    "print(bin(-459872))"
   ]
  },
  {
   "cell_type": "markdown",
   "metadata": {},
   "source": [
    "> **Activité 4.** Ecrivez une fonction *nb_bits(n)* qui renvoie le nombre de bits utilisés pour coder un nombre binaire en **complément à 2**.<br>\n",
    ">\n",
    ">*Résultat attendu pour n = -459872* <br>\n",
    ">Texte affiché : Il faut 20 bit(s) pour coder -459872"
   ]
  },
  {
   "cell_type": "code",
   "execution_count": null,
   "metadata": {},
   "outputs": [],
   "source": [
    "# A compléter\n",
    "def nb_bits(n) :\n",
    "    if n < 0:\n",
    "        return len(bin(n))-2\n",
    "    else:\n",
    "        return len(bin(n))-1\n",
    "\n",
    "n=1\n",
    "print(f\"Il faut {nb_bits(n)} bit(s) pour coder {n}\")\n",
    "n=-15\n",
    "print(f\"Il faut {nb_bits(n)} bit(s) pour coder {n}\")"
   ]
  },
  {
   "cell_type": "markdown",
   "metadata": {},
   "source": [
    "### 2.4 Conversion binaire (complément à 2) -> décimal\n",
    "\n",
    "**Ressource** : <a href=\"https://webge.synology.me/dokuwiki/doku.php?id=informatique:represdonnees\" target=\"_blank\"><input type=\"button\" value=\"Wiki Représentation des données\"></a>"
   ]
  },
  {
   "cell_type": "markdown",
   "metadata": {},
   "source": [
    "> **Activité 5a.** Ecrivez l'**algorithme** d'une fonction *complementa2(b)* qui calcule le complément à 2 d'un nombre binaire <html>N = b<sub>n-1</sub> b<sub>n-2</sub>,..., b<sub>0</sub></html> stocké dans un tableau *b* contenant uniquement les chiffres 0 et 1. La fonction renverra un nouveau tableau de même taille que b. <br> Rédigez sur le **document réponse**.\n"
   ]
  },
  {
   "cell_type": "markdown",
   "metadata": {},
   "source": [
    "<span style=\"color:blue;\"><em><strong>Correction</strong></em></span>\n",
    "<code>\n",
    "    Algorithme Complementa2(b)\n",
    "        // b: tableau contenant un nombre N codé en binaire complément à 2 sur n bits tel que :\n",
    "        //   <html>N = b<sub>n-1</sub> b<sub>n-2</sub>,..., b<sub>0</sub></html>\n",
    "        // b[0] = b<sub>n-1</sub>\n",
    "        // ...\n",
    "        // b[n-1] = b<sub>0</sub>\n",
    "        retenue, somme : entier // somme = b[i] + retenue  avec 0 ≤ i ≤ n-1\n",
    "    debut\n",
    "        si (b[0] = 0) \n",
    "        alors                                                // MSB = 0 => nombre positif \n",
    "            renvoyer(b)                                                                         \n",
    "        sinon                                                // MSB = 1 => nombre négatif\n",
    "            inverser l'état logique des bits dans le tableau // Complément à 1\n",
    "            retenue = 1\n",
    "            pour i variant de n-1 à 0                        // tableau parcouru en ordre inverse pour le \n",
    "            faire                                            // ajouter 1 au complément à 1 => complément à 2\n",
    "                somme  = b[i] + retenue\n",
    "                si (somme == 2) \n",
    "                alors\n",
    "                    retenue = 1\n",
    "                    b[i] = 0\n",
    "                sinon si (somme == 1) \n",
    "                      alors\n",
    "                          retenue = 0\n",
    "                          b[i] = 1\n",
    "                      sinon\n",
    "                          retenue = 0\n",
    "                          b[i] = 0\n",
    "                      fin si\n",
    "                fin si\n",
    "            fin pour\n",
    "        fin si\n",
    "        renvoyer(b)\n",
    "    fin\n",
    "</code>\n",
    "    "
   ]
  },
  {
   "cell_type": "markdown",
   "metadata": {},
   "source": [
    "> **Activité 5b.** Codez la fonction *complementa2(b)* et utilisez-la pour convertir en décimal un nombre binaire codé en complément à 2. <br>\n",
    ">\n",
    "> *Résultat attendu pour  N<sub>2</sub> = 10001111 c'est à dire b=[1,0,0,0,1,1,1,1]* <br>\n",
    "> *Texte affiché* <br>\n",
    "> *Compément à 2 => [0, 1, 1, 1, 0, 0, 0, 1 ]*<br>\n",
    "> *La valeur décimale de N est égal à -113*\n",
    "\n",
    "__Notes__ <br>\n",
    "Pour parcourir un tableau tab dans l'ordre croissant de ses indices i : for i in range(len(tab)) <br>\n",
    "Pour parcourir un tableau tab dans l'ordre décroissant de ses indices i : for i in range(-1,-(len(tab)+1),-1) "
   ]
  },
  {
   "cell_type": "code",
   "execution_count": null,
   "metadata": {},
   "outputs": [],
   "source": [
    "# Version 1 conforme à l'algorithme : complément à 1 suivi du complément à 2\n",
    "# A compléter\n",
    "def complementa2(b):\n",
    "    if b[0]==0 : # MSB = 0 => le nombre est positif\n",
    "        return b\n",
    "    else:                         # complément à 1\n",
    "        for j in range(len(b)):\n",
    "            if b[j] == 0:\n",
    "                b[j] = 1\n",
    "            else:\n",
    "                b[j] = 0\n",
    "        retenue = 1\n",
    "        for i in range(-1,-(len(b)+1),-1): # complément à 1 + 1 => complément à 2\n",
    "            somme  = b[i] + retenue\n",
    "            if somme == 2:\n",
    "                retenue = 1\n",
    "                b[i] = 0\n",
    "            elif somme == 1:\n",
    "                retenue = 0\n",
    "                b[i] = 1 \n",
    "            else:\n",
    "                retenue = 0\n",
    "                b[i] = 0\n",
    "        return b\n",
    "        \n",
    "b=[1,0,0,0,1,1,1,1] # -113\n",
    "print(\"Compément à 2 =>\",complementa2(b))\n",
    "\n",
    "if (b[0]==1):\n",
    "    print(f\"La valeur décimale de N est égale à {entier(complementa2(b))}\")\n",
    "    \n",
    "else:\n",
    "    print(f\"La valeur décimale de N est égale à -{entier(complementa2(b))}\") "
   ]
  },
  {
   "cell_type": "code",
   "execution_count": null,
   "metadata": {},
   "outputs": [],
   "source": [
    "# Version 2 complément à 2 sans inverser les bit de b\n",
    "# A compléter\n",
    "def complementa2v2(b):\n",
    "    if b[0]==0 : # MSB = 0 => le nombre est positif\n",
    "        return b\n",
    "    else:        # MSB = 1 => le nombre est négatif\n",
    "        retenue = 1                         # On parcourt la table de n-1 -> 0\n",
    "        for i in range(-1,-(len(b)+1),-1):  # le complément à 1 et l'addition de 1 sont traités dans la même boucle\n",
    "            if b[i] == 0:                   # On test b[i] == 0 mais si vrai on traite b[i] == 1 (complément à 1)\n",
    "                RS = retenue + 1            # On économise ainsi l'inversion de b\n",
    "                if RS == 2:                 # RS = 10  (R: bit de retenue, S : bit de somme)\n",
    "                    retenue = 1\n",
    "                    b[i] = 0 \n",
    "                elif RS == 1:               # RS = 01\n",
    "                    retenue = 0\n",
    "                    b[i] = 1 \n",
    "                else:\n",
    "                    retenue == 0;           # RS = 00\n",
    "                    b[i] = 0 \n",
    "            else:                           # On test b[i] == 1 mais si vrai on traite b[i] == 0 (complément à 1)\n",
    "                if retenue == 1:\n",
    "                    retenue = 0\n",
    "                    b[i] = 1\n",
    "                else:\n",
    "                    b[i] = 0   \n",
    "        return b\n",
    "\n",
    "b=[1,1,1,1,1,1,1,1,0,0,0,0,0,0,0,0] # -256\n",
    "\n",
    "if (b[0]==0):\n",
    "    print(f\"La valeur décimale de b est égale à {entier(complementa2v2(b))}\")\n",
    "    \n",
    "else:\n",
    "    print(f\"La valeur décimale de b est égale à -{entier(complementa2v2(b))}\") "
   ]
  },
  {
   "cell_type": "code",
   "execution_count": null,
   "metadata": {},
   "outputs": [],
   "source": []
  }
 ],
 "metadata": {
  "kernelspec": {
   "display_name": "Python 3",
   "language": "python",
   "name": "python3"
  },
  "language_info": {
   "codemirror_mode": {
    "name": "ipython",
    "version": 3
   },
   "file_extension": ".py",
   "mimetype": "text/x-python",
   "name": "python",
   "nbconvert_exporter": "python",
   "pygments_lexer": "ipython3",
   "version": "3.8.5"
  }
 },
 "nbformat": 4,
 "nbformat_minor": 4
}
